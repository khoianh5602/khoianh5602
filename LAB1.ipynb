{
  "nbformat": 4,
  "nbformat_minor": 0,
  "metadata": {
    "colab": {
      "provenance": [],
      "mount_file_id": "1eITi4lfMYp_pLlJWvWXZPRpPaNCHmh3p",
      "authorship_tag": "ABX9TyOUSbKIczHBrYxOio8znEAK",
      "include_colab_link": true
    },
    "kernelspec": {
      "name": "python3",
      "display_name": "Python 3"
    },
    "language_info": {
      "name": "python"
    }
  },
  "cells": [
    {
      "cell_type": "markdown",
      "metadata": {
        "id": "view-in-github",
        "colab_type": "text"
      },
      "source": [
        "<a href=\"https://colab.research.google.com/github/khoianh5602/khoianh5602/blob/main/LAB1.ipynb\" target=\"_parent\"><img src=\"https://colab.research.google.com/assets/colab-badge.svg\" alt=\"Open In Colab\"/></a>"
      ]
    },
    {
      "cell_type": "markdown",
      "source": [
        "# **LAB 1: NGỮ NGHĨA CÚ PHÁP LẬP TRÌNH PYTHON**"
      ],
      "metadata": {
        "id": "D9YQYmZiSeO0"
      }
    },
    {
      "cell_type": "markdown",
      "source": [
        "## **Bài 1:** Viết chương trình nhập vào số giờ làm mỗi tuần, thù lao trên mỗi giờ làm tiêu chuẩn,từ đó tính ra số tiền thực lĩnh của nhân viên. Với số giờ tiêu chuẩn mỗi tuần là 40 giờ, và mỗi giờ vượt chuẩn được trả gấp 1.5 lần so với giờ làm chuẩn."
      ],
      "metadata": {
        "id": "3Cl9OT_uSoFi"
      }
    },
    {
      "cell_type": "code",
      "execution_count": null,
      "metadata": {
        "colab": {
          "base_uri": "https://localhost:8080/"
        },
        "id": "8kbEyUPaSOAQ",
        "outputId": "f2834d1c-6b7e-446b-b1c4-d51b47d7150d"
      },
      "outputs": [
        {
          "output_type": "stream",
          "name": "stdout",
          "text": [
            "Nhân viên làm việc 40 tiếng/tuần với mức lương 35k/giờ: 1400000\n",
            "Nhân viên làm việc 41 tiếng/tuần với mức lương 35k/giờ: 1452500.0\n"
          ]
        }
      ],
      "source": [
        "def tien_luong(gio_lam,thu_lao):\n",
        "  if gio_lam<=40:\n",
        "    return gio_lam*thu_lao\n",
        "  else:\n",
        "    return (40*thu_lao)+((gio_lam-40)*thu_lao*1.5)\n",
        "\n",
        "print(f\"Nhân viên làm việc 40 tiếng/tuần với mức lương 35k/giờ: {tien_luong(40,35000)}\")\n",
        "print(f\"Nhân viên làm việc 41 tiếng/tuần với mức lương 35k/giờ: {tien_luong(41,35000)}\")"
      ]
    },
    {
      "cell_type": "markdown",
      "source": [
        "## **Bài 2:** Viết chương trình yêu cầu người dùng nhập vào ngày tháng năm sinh sau đó tính tuổi của người đó."
      ],
      "metadata": {
        "id": "QQRnuHiXT_wy"
      }
    },
    {
      "cell_type": "code",
      "source": [
        "import datetime\n",
        "def input_date():\n",
        "  try:\n",
        "    day=int(input(\"Nhập ngày sinh của bạn: \"))\n",
        "    month=int(input(\"Nhập tháng sinh của bạn: \"))\n",
        "    year=int(input(\"Nhập năm sinh của bạn: \"))\n",
        "    return date(year,month,day)\n",
        "  except ValueError:\n",
        "    print(\"Ngày sinh không hợp lệ! Vui lòng nhập lại\")\n",
        "\n",
        "\n",
        "\n",
        "def age_calculator(birth_date):\n",
        "  if (datetime.datetime.now().month<birth_date.month) or (datetime.datetime.now().month==birth_date.month and datetime.datetime.now().day<birth_date.day):\n",
        "    return datetime.datetime.now().year-birth_date.year-1\n",
        "  else:\n",
        "    return datetime.datetime.now().year-birth_date.year\n",
        "\n",
        "birth_date=input_date()\n",
        "print(f\"Tuổi của bạn là: {age_calculator(birth_date)}\")"
      ],
      "metadata": {
        "colab": {
          "base_uri": "https://localhost:8080/"
        },
        "id": "BgNRp6rNUKcW",
        "outputId": "17d81caa-645b-4a68-9db4-96a7ab386fbf"
      },
      "execution_count": null,
      "outputs": [
        {
          "output_type": "stream",
          "name": "stdout",
          "text": [
            "Nhập ngày sinh của bạn: 4\n",
            "Nhập tháng sinh của bạn: 6\n",
            "Nhập năm sinh của bạn: 2004\n",
            "Tuổi của bạn là: 21\n"
          ]
        }
      ]
    },
    {
      "cell_type": "markdown",
      "source": [
        "## **Bài 3:** Viết chương trình in ra màn hình các dãy số như sau:\n",
        "$\n",
        "[1]\\\\\n",
        "[1, 4]\\\\\n",
        "[1, 4, 9]\\\\\n",
        "[1, 4, 9, 16]\\\\\n",
        "[1, 4, 9, 16, 25]\\\\\n",
        "[1, 4, 9, 16, 25, 36]\\\\\n",
        "[1, 4, 9, 16, 25, 36, 49]\\\\\n",
        "[1, 4, 9, 16, 25, 36, 49, 64]\\\\\n",
        "[1, 4, 9, 16, 25, 36, 49, 64, 81]\\\\\n",
        "$"
      ],
      "metadata": {
        "id": "mUhDIjGxabtz"
      }
    },
    {
      "cell_type": "code",
      "source": [
        "for i in range(1,10):\n",
        "    lst=[i**2 for i in range(1,i+1)]\n",
        "    print(lst)"
      ],
      "metadata": {
        "colab": {
          "base_uri": "https://localhost:8080/"
        },
        "id": "wfg18P0ybS8k",
        "outputId": "f878bcd0-92c8-40be-e591-50bd1c2d59a5"
      },
      "execution_count": null,
      "outputs": [
        {
          "output_type": "stream",
          "name": "stdout",
          "text": [
            "[1]\n",
            "[1, 4]\n",
            "[1, 4, 9]\n",
            "[1, 4, 9, 16]\n",
            "[1, 4, 9, 16, 25]\n",
            "[1, 4, 9, 16, 25, 36]\n",
            "[1, 4, 9, 16, 25, 36, 49]\n",
            "[1, 4, 9, 16, 25, 36, 49, 64]\n",
            "[1, 4, 9, 16, 25, 36, 49, 64, 81]\n"
          ]
        }
      ]
    },
    {
      "cell_type": "markdown",
      "source": [
        "## **Bài 4:** Viết chương trình in ra bảng cửu chương:"
      ],
      "metadata": {
        "id": "C3ihlib8cO6W"
      }
    },
    {
      "cell_type": "code",
      "source": [
        "for i in range(2,10):\n",
        "  for j in range(2,10):\n",
        "    print(f\"{j} x {i} = {i*j}\",end=\"\\t\")\n",
        "  print()"
      ],
      "metadata": {
        "colab": {
          "base_uri": "https://localhost:8080/"
        },
        "id": "usVbn3LLcORk",
        "outputId": "138fad03-9901-4e17-ba56-dae7724fe896"
      },
      "execution_count": null,
      "outputs": [
        {
          "output_type": "stream",
          "name": "stdout",
          "text": [
            "2 x 2 = 4\t3 x 2 = 6\t4 x 2 = 8\t5 x 2 = 10\t6 x 2 = 12\t7 x 2 = 14\t8 x 2 = 16\t9 x 2 = 18\t\n",
            "2 x 3 = 6\t3 x 3 = 9\t4 x 3 = 12\t5 x 3 = 15\t6 x 3 = 18\t7 x 3 = 21\t8 x 3 = 24\t9 x 3 = 27\t\n",
            "2 x 4 = 8\t3 x 4 = 12\t4 x 4 = 16\t5 x 4 = 20\t6 x 4 = 24\t7 x 4 = 28\t8 x 4 = 32\t9 x 4 = 36\t\n",
            "2 x 5 = 10\t3 x 5 = 15\t4 x 5 = 20\t5 x 5 = 25\t6 x 5 = 30\t7 x 5 = 35\t8 x 5 = 40\t9 x 5 = 45\t\n",
            "2 x 6 = 12\t3 x 6 = 18\t4 x 6 = 24\t5 x 6 = 30\t6 x 6 = 36\t7 x 6 = 42\t8 x 6 = 48\t9 x 6 = 54\t\n",
            "2 x 7 = 14\t3 x 7 = 21\t4 x 7 = 28\t5 x 7 = 35\t6 x 7 = 42\t7 x 7 = 49\t8 x 7 = 56\t9 x 7 = 63\t\n",
            "2 x 8 = 16\t3 x 8 = 24\t4 x 8 = 32\t5 x 8 = 40\t6 x 8 = 48\t7 x 8 = 56\t8 x 8 = 64\t9 x 8 = 72\t\n",
            "2 x 9 = 18\t3 x 9 = 27\t4 x 9 = 36\t5 x 9 = 45\t6 x 9 = 54\t7 x 9 = 63\t8 x 9 = 72\t9 x 9 = 81\t\n"
          ]
        }
      ]
    },
    {
      "cell_type": "markdown",
      "source": [
        "## **Bài 5:** Viết một chương trình yêu cầu người dùng nhập vào một số từ tách biệt bởi khoảng trắng. Sau đó thực hiện các thao tác sau:\n",
        "*   Loại bỏ các từ trùng lặp\n",
        "*   Sắp xếp các từ theo bảng thứ tự chữ cái\n",
        "*   Chuyển các từ bắt đầu bằng chữ cái \"A\" hoặc \"a\" thành chữ in hoa\n",
        "*   In kết quả ra màn hình\n",
        "\n"
      ],
      "metadata": {
        "id": "uWvRbUl_dEKn"
      }
    },
    {
      "cell_type": "code",
      "source": [
        "s=\"application,is,an,an,official,official,request,for,something,usually,in,writing,and,and,software\"\n",
        "#Đưa string về dạng list\n",
        "list_of_word=s.split(',')\n",
        "\n",
        "#Loại bỏ các từ trùng lắp và đồng thời sắp xếp các từ theo bảng thứ tự chữ cái\n",
        "list_of_word=sorted(list(set(list_of_word)))\n",
        "\n",
        "#Chuyển các từ bắt đầu bằng chữ cái \"A\" hoặc \"a\" thành chữ in hoa\n",
        "new_string=[word[:].upper() if (word[0]=='a') or (word[0]==\"A\") else word for word in list_of_word]\n",
        "\n",
        "#In kết quả ra màn hình\n",
        "print(\",\".join(new_string))"
      ],
      "metadata": {
        "colab": {
          "base_uri": "https://localhost:8080/"
        },
        "id": "eNQmgAH9dDRh",
        "outputId": "05e32037-3494-4a25-8b7f-56ac7e982185"
      },
      "execution_count": null,
      "outputs": [
        {
          "output_type": "stream",
          "name": "stdout",
          "text": [
            "AN,AND,APPLICATION,for,in,is,official,request,software,something,usually,writing\n"
          ]
        }
      ]
    },
    {
      "cell_type": "markdown",
      "source": [
        "## **Bài 6:** Viết một chương trình chấp nhận đầu vào là chuỗi các số nhị phân 4 chữ số, phân tách bởi dấu phẩy, kiểm tra xem chúng có chia hết cho 5 không. Sau đó in các số chia hết cho 5 thành dãy phân tách bởi dấu phẩy"
      ],
      "metadata": {
        "id": "0m-w3_Xsiy_m"
      }
    },
    {
      "cell_type": "code",
      "source": [
        "input_list=input(\"Nhập chuỗi các số nhị phân 4 số, phân tách bởi dấu phẩy: \")\n",
        "input_list=input_list.split(',')\n",
        "solution_list=[i for i in input_list if int(i,2)%5==0]\n",
        "solution=\",\".join(solution_list)\n",
        "print(f\"Chuỗi các số nhị phân chia hết cho 5 là: {solution}\")"
      ],
      "metadata": {
        "colab": {
          "base_uri": "https://localhost:8080/"
        },
        "id": "NntsK8sNfaHx",
        "outputId": "84a812b9-8392-44f2-9641-a616d3dee8f2"
      },
      "execution_count": null,
      "outputs": [
        {
          "output_type": "stream",
          "name": "stdout",
          "text": [
            "Nhập chuỗi các số nhị phân 4 số, phân tách bởi dấu phẩy: 0101,1010,0111,1100 \n",
            "Chuỗi các số nhị phân chia hết cho 5 là: 0101,1010\n"
          ]
        }
      ]
    },
    {
      "cell_type": "markdown",
      "source": [
        "## **Bài 7:** Viết một chương trình tìm tất cả các số chính phương trong đoạn 100 và 2000 (tính cả 2 số này) và số đó phải có ít nhất 2 chữ số là số chẵn. In các số tìm được thành chuỗi cách nhau bởi dấu phẩy, trên một dòng"
      ],
      "metadata": {
        "id": "Y3crKhayJCbJ"
      }
    },
    {
      "cell_type": "code",
      "source": [
        "import math\n",
        "even_perfect_squared_number=[]\n",
        "for i in range(100,2001):\n",
        "  # Kiểm tra số chính phương\n",
        "  if math.isqrt(i)**2==i:\n",
        "    tmp=i\n",
        "    count=0\n",
        "    # Nếu là số chính phương thì tiếp tục kiểm tra số đó có ít nhất hai số chẵn không\n",
        "    while tmp>0:\n",
        "      # Trường hợp số đó = 0 thì tăng count 1 đơn vị\n",
        "      if tmp%10==0:\n",
        "        count+=1\n",
        "      elif (tmp%10)%2==0:\n",
        "        count+=1\n",
        "      tmp//=10\n",
        "    if count>=2:\n",
        "      even_perfect_squared_number.append(i)\n",
        "\n",
        "# Đưa output về dạng string và ngăn cách bởi dấu phẩy\n",
        "even_perfect_squared_number=\",\".join([str(i) for i in even_perfect_squared_number])\n",
        "print(even_perfect_squared_number)"
      ],
      "metadata": {
        "colab": {
          "base_uri": "https://localhost:8080/"
        },
        "id": "MN7WcmaUJKCK",
        "outputId": "1da3370d-fb0e-4a8a-9b45-40ace8139896"
      },
      "execution_count": null,
      "outputs": [
        {
          "output_type": "stream",
          "name": "stdout",
          "text": [
            "100,144,225,256,289,324,400,441,484,625,676,784,841,900,1024,1089,1225,1296,1444,1600,1681,1764,1849\n"
          ]
        }
      ]
    },
    {
      "cell_type": "markdown",
      "source": [
        "## **Bài 8:** Viết một chương trình nhập vào một câu sau đó đếm xem có bao nhiêu chữ hoa, bao nhiêu chữ thường"
      ],
      "metadata": {
        "id": "bXmAVNLFRchk"
      }
    },
    {
      "cell_type": "code",
      "source": [
        "sentence=input(\"Nhập vào một câu bất kỳ: \")\n",
        "uppercase=0\n",
        "lowercase=0\n",
        "for char in sentence:\n",
        "  if char.isupper()==True:\n",
        "    uppercase+=1\n",
        "  elif char.islower()==True:\n",
        "    lowercase+=1\n",
        "print(f\"Số kí tự là chữ hoa: {uppercase} \\nSố kí tự là chữ thường: {lowercase}\")"
      ],
      "metadata": {
        "colab": {
          "base_uri": "https://localhost:8080/"
        },
        "id": "fYB9J5YMRn7d",
        "outputId": "cd7ec597-7358-47c9-e87b-28893ec2e3c9"
      },
      "execution_count": null,
      "outputs": [
        {
          "output_type": "stream",
          "name": "stdout",
          "text": [
            "Nhập vào một câu bất kỳ: Chó Sủa XÔN SHAO khắp fố phường 1111\n",
            "Số kí tự là chữ hoa: 9 \n",
            "Số kí tự là chữ thường: 16\n"
          ]
        }
      ]
    },
    {
      "cell_type": "markdown",
      "source": [],
      "metadata": {
        "id": "VGMldoqSRlXt"
      }
    },
    {
      "cell_type": "markdown",
      "source": [
        "## **Bài 9:** Viết chương trình yêu cầu người dùng nhập vào một chuỗi bất kỳ. Hãy định dạng chuỗi đó sao cho không dư thừa khoảng trống ở đầu, cuối và giữa các từ chỉ chứa duy nhất 1 khoảng trống. Mỗi từ sẽ bắt đầu bằng ký tự in hoa, các ký tự còn lại là chữ in thường"
      ],
      "metadata": {
        "id": "BG9g6LKWaVXK"
      }
    },
    {
      "cell_type": "code",
      "source": [
        "sentence=\" When   I have nothing   left to    say    \"\n",
        "# Chuẩn hoá các khoảng trắng giữa các từ trong câu sample\n",
        "sentence=sentence.split()\n",
        "# Viết hoa chữ cái đầu mỗi từ trong câu và in ra kết quả câu đã được chuẩn hoá\n",
        "sentence=\" \".join(word.capitalize() for word in sentence)\n",
        "print(sentence)"
      ],
      "metadata": {
        "colab": {
          "base_uri": "https://localhost:8080/"
        },
        "id": "d5LOo5mDaaU1",
        "outputId": "43704549-ff34-4947-a427-db6c548d0444"
      },
      "execution_count": null,
      "outputs": [
        {
          "output_type": "stream",
          "name": "stdout",
          "text": [
            "When I Have Nothing Left To Say\n"
          ]
        }
      ]
    },
    {
      "cell_type": "markdown",
      "source": [
        "## **Bài 10:** Bạn được cung cấp một file chứa danh sách các bài hát đã nghe của một người dùng trên một website nghe nhạc. Trong danh sách có thể sẽ tồn tại các bài hát trùng lặp nhau. Yêu cầu đặt ra là tạo ra file mới chứa danh sách các bài hát mà không có bài hát nào trùng."
      ],
      "metadata": {
        "id": "r-LIN-SacLGr"
      }
    },
    {
      "cell_type": "code",
      "source": [
        "# Mở file theo YC đề bài\n",
        "fi=open(\"/content/drive/MyDrive/Python_Practice_UTH/LAB1/bai10.txt\",\"r+\")\n",
        "line=fi.readline()\n",
        "song_lists=[]\n",
        "while line:\n",
        "  song_lists.append(line.strip())\n",
        "  line=fi.readline()\n",
        "song_lists=list(set(song_lists))\n",
        "\n",
        "# Tiến hành ghi file theo YC đề bài\n",
        "with open(\"/content/drive/MyDrive/Python_Practice_UTH/LAB1/songs.txt\",\"w+\") as fo:\n",
        "  for line in song_lists:\n",
        "    fo.write(line+\"\\n\")"
      ],
      "metadata": {
        "id": "Kn6Pm3fxcSGM"
      },
      "execution_count": null,
      "outputs": []
    },
    {
      "cell_type": "markdown",
      "source": [
        "## **Bài 11:** Viết chương trình đọc từ file nhật ký giao dịch Transaction.txt của một tài khoản ngân hàng. Từ đó tính ra số tiền thực tế của khách hàng đó và ghi vào một file BalanceInquiry.txt khác với thông tin bao gồm tên và số dư hiện tại của khách hàng. Trong đó mỗi lần rút tiền khách hàng sẽ bị tính phí 0.1% còn nộp tiền thì miễn phí."
      ],
      "metadata": {
        "id": "bZ5vOYsxi6Kz"
      }
    },
    {
      "cell_type": "markdown",
      "source": [
        "Định dạng file nhật ký giao dịch Transaction.txt được hiển thị như sau:\n",
        "\n",
        "\n",
        "*   Name: Vin\n",
        "\n",
        "*   D 1000\n",
        "\n",
        "*   W 2000\n",
        "\n",
        "*   …\n",
        "\n",
        "(Với D là nộp tiền, W là rút tiền)\n",
        "\n",
        "***Ví dụ:*** File nhật ký giao dịch là:\n",
        "* D 3000\n",
        "\n",
        "* D 2000\n",
        "\n",
        "*  W 3000\n",
        "\n",
        "*  D 500\n",
        "\n",
        "Thì file BalanceInquiry.txt sẽ là: 2500"
      ],
      "metadata": {
        "id": "la1Ou_iQjFIl"
      }
    },
    {
      "cell_type": "code",
      "source": [
        "# Mở file và đọc thông tin từ Transaction.txt\n",
        "with open(\"/content/drive/MyDrive/Python_Practice_UTH/LAB1/Transaction.txt\",\"r+\") as fi:\n",
        "  # Đọc thông tin khách hàng\n",
        "  customer_name=fi.readline()\n",
        "  content=[]\n",
        "  customer_balance=0\n",
        "  description=\"\\n\"\n",
        "\n",
        "  # Đọc hoạt động từ file Transaction.txt\n",
        "  while description:\n",
        "    if description!=\"\\n\":\n",
        "      content.append(description.strip())\n",
        "    description=fi.readline()\n",
        "\n",
        "  # Thực hiện các hoạt động trong file Transaction.txt\n",
        "  for activity in content:\n",
        "    activity=activity.split()\n",
        "    # Nộp tiền\n",
        "    if activity[0]=='D':\n",
        "      customer_balance+=float(activity[-1])\n",
        "    # Rút tiền\n",
        "    else:\n",
        "      customer_balance-=(float(activity[-1])*1.001)\n",
        "fi.close()\n",
        "\n",
        "# Ghi file vào file BalanceInquiry.txt\n",
        "with open(\"/content/drive/MyDrive/Python_Practice_UTH/LAB1/BalanceInquiry.txt\",\"w+\") as fo:\n",
        "  fo.write(customer_name)\n",
        "  fo.write(str(customer_balance))\n",
        "fo.close()"
      ],
      "metadata": {
        "id": "538ZmfWnjmjQ"
      },
      "execution_count": null,
      "outputs": []
    },
    {
      "cell_type": "markdown",
      "source": [
        "## **Bài 12:** Một phần mềm yêu cầu người dùng nhập username và password để đăng ký. Hãy viết chương trình yêu cầu người dùng nhập vào username và password sau đó kiểm tra tính hợp lệ của chúng như sau:\n",
        "* Username có 6 ký tự bao gồm các ký tự thường và số.\n",
        "* Password sẽ bao gồm: chữ cái thường, chữ cái in hoa, số, ký tự đặc biệt(!, @, #, $,\n",
        "%, ^, &, *). Độ dài của password sẽ nằm trong khoảng từ 6 đến 12."
      ],
      "metadata": {
        "id": "EI0QtWQb54Sb"
      }
    },
    {
      "cell_type": "code",
      "source": [
        "'''\n",
        "Thêm thư viện getpass để nhập password\n",
        "Thêm thư viện sys để exit chương trình nếu nhập username hoặc password sai\n",
        "'''\n",
        "from getpass import getpass\n",
        "import sys\n",
        "# String bao gồm cả chữ cái và số\n",
        "def isaldig(s):\n",
        "  return s.isalnum() and not s.isalpha() and not s.isdigit()\n",
        "\n",
        "# Kiểm tra username có hợp lệ không\n",
        "def valid_username(user):\n",
        "  # Đưa về chữ thường nếu user nhập username kí tự chữ in hoa\n",
        "  user=user.lower()\n",
        "  # Kiểm tra tính hợp lệ của username\n",
        "  if len(user)==6 and isaldig(user):\n",
        "    return True\n",
        "  return False\n",
        "\n",
        "# Kiểm tra password có hợp lệ không\n",
        "def valid_password(pw):\n",
        "  special_char=['!','@','#','$','%','^','&','*']\n",
        "  # Kiểm tra độ dài của Password\n",
        "  if not (len(pw)>=6 and len(pw)<=12):\n",
        "    print(\"Độ dài password phải từ 6-12 ký tự\")\n",
        "    return False\n",
        "  # Kiểm tra trong Password có chứa bất kì kí tự chữ cái thường và in hoa\n",
        "  if not any(c.islower() for c in pw):\n",
        "    print(\"Password phải gồm ít nhất một ký tự chữ thường\")\n",
        "    return False\n",
        "  if not any(c.isupper() for c in pw):\n",
        "    print(\"Password phải gồm ít nhất một ký tự chữ in hoa\")\n",
        "    return False\n",
        "  # Kiểm tra trong Password có chứa bất kì kí tự chữ số nào không\n",
        "  if not any(c.isdigit() for c in pw):\n",
        "    print(\"Password phải gồm ít nhất một ký tự chữ số\")\n",
        "    return False\n",
        "  # Kiểm tra trong Password có chứa bất kì kí tự special_char\n",
        "  if not any(c in special_char for c in pw):\n",
        "    print(f\"Password phải bao gồm ít nhất một ký tự đặc biệt ({','.join(special_char)})\")\n",
        "    return False\n",
        "  return True\n",
        "\n",
        "username=input(\"Nhập username của bạn (6 kí tự bao gồm chữ cái và số): \")\n",
        "if not valid_username(username):\n",
        "  print(\"Username không hợp lệ!\")\n",
        "  sys.exit(1)\n",
        "\n",
        "password=getpass(\"Nhập password của bạn (Độ dài từ 6-12 ký tự): \")\n",
        "if not valid_password(password):\n",
        "  sys.exit(1)\n",
        "\n",
        "print(f\"Username: {username}\")\n",
        "print(f\"Password: {password}\")"
      ],
      "metadata": {
        "id": "pN9I5NG-6qIR",
        "colab": {
          "base_uri": "https://localhost:8080/"
        },
        "outputId": "9a7dbfd8-a1a6-4b6f-e0cf-11f0aa040c0f"
      },
      "execution_count": null,
      "outputs": [
        {
          "output_type": "stream",
          "name": "stdout",
          "text": [
            "Nhập username của bạn (6 kí tự bao gồm chữ cái và số): anhkh1\n",
            "Nhập password của bạn (Độ dài từ 6-12 ký tự): ··········\n",
            "Username: anhkh1\n",
            "Password: Zalo@1\n"
          ]
        }
      ]
    },
    {
      "cell_type": "markdown",
      "source": [
        "## **Bài 13:** Viết chương trình quản lý sinh viên đơn giản gồm các thông tin mssv, họ tên, điểm số sử dụng list trong Python bao gồm các tính năng sau:\n",
        "* Thêm sinh viên (người dùng nhập)\n",
        "* Hiển thị danh sách sinh viên\n",
        "* Hiển thị danh sách sinh viên có điểm số > 7\n",
        "* Tìm kiếm sinh viên theo mssv\n",
        "* Cập nhật điểm số của sinh viên\n",
        "* Xóa sinh viên theo MSSV"
      ],
      "metadata": {
        "id": "cowS5SAHC9Hd"
      }
    },
    {
      "cell_type": "code",
      "source": [
        "# Nhập thông tin của một sinh viên, bao gồm Họ tên, MSSV và điểm mặc định là 0\n",
        "def student_input():\n",
        "  student_info=[]\n",
        "  student_fullname=input(\"Nhập họ tên đầy đủ của sinh viên: \")\n",
        "  student_code=input(\"Nhập MSSV: \")\n",
        "  # Nhập điểm từ 0-10\n",
        "  student_score=0\n",
        "  student_info.extend([student_fullname,student_code,student_score])\n",
        "  student_info[2]=float(student_info[2])\n",
        "  return student_info\n",
        "\n",
        "# Hiển thị thông tin của một sinh viên\n",
        "def display_a_student_info(student_info) -> list:\n",
        "  print(f\"Họ tên của sinh viên: {student_info[0]}\")\n",
        "  print(f\"Mã số sinh viên: {student_info[1]}\")\n",
        "  print(f\"Điểm số của sinh viên: {student_info[2]}\")\n",
        "\n",
        "# Hiển thị danh sách sịnh viên lớn hơn 7\n",
        "def display_student_list_have_grade_greater_than_7(student_list):\n",
        "  tmp_list=[]\n",
        "  for student in student_list:\n",
        "    if student[2]>7:\n",
        "      tmp_list.append(student)\n",
        "  if len(tmp_list)!=0:\n",
        "    display_student_list(tmp_list)\n",
        "  else:\n",
        "    print(\"Không có sinh viên nào đạt điểm trên 7!\")\n",
        "\n",
        "# Hiển thị danh sách sinh viên\n",
        "def display_student_list(list_student):\n",
        "  for i in range(len(list_student)):\n",
        "    print(f\"\\nSinh viên thứ {i+1}:\")\n",
        "    display_a_student_info(list_student[i])\n",
        "\n",
        "# Tìm kiếm sinh viên đó theo MSSV\n",
        "def searching_student(student_list,target):\n",
        "  for student in student_list:\n",
        "    if target == student[1]:\n",
        "      print(\"Đã tìm thấy sinh viên!\")\n",
        "      display_a_student_info(student)\n",
        "      return True\n",
        "  return False\n",
        "\n",
        "# Cập nhật điểm số của sinh viên, cập nhật tất cả hoặc cụ thể một sinh viên\n",
        "def grade_updating(student_list):\n",
        "  # Cập nhật tất cả điểm của sinh viên:\n",
        "  def updating_all():\n",
        "    for student in student_list:\n",
        "        print(f\"\\nSinh viên {student[0]} - MSSV: {student[1]}\")\n",
        "        student[2]=float(input(\"Nhập điểm số của sinh viên đó: \"))\n",
        "        if student[2]<0 or student[2]>10:\n",
        "          raise Exception(\"Điểm số sinh viên phải từ [0,10]!\")\n",
        "\n",
        "  # Cập nhật điểm của một sinh viên cụ thể dựa theo STT của sinh viên đó:\n",
        "  def updating_detailly(index):\n",
        "    if index>len(student_list) or index<1:\n",
        "      print(\"STT của sinh viên đó không hợp lệ!\")\n",
        "    else:\n",
        "      target=student_list[index-1]\n",
        "      print(f\"\\nSinh viên {target[0]} - MSSV: {target[1]}\")\n",
        "      target[2]=float(input(\"Nhập điểm số của sinh viên đó: \"))\n",
        "      if target[2]<0 or target[2]>10:\n",
        "          raise Exception(\"Điểm số sinh viên phải từ [0,10]!\")\n",
        "\n",
        "  choice=input(\"Mời bạn nhập lựa chọn cập nhật điểm số: \")\n",
        "  match choice:\n",
        "    case \"1\":\n",
        "      updating_all()\n",
        "    case \"2\":\n",
        "      idx=int(input(\"Mời bạn nhập STT của sinh viên đó: \"))\n",
        "      updating_detailly(idx)\n",
        "    case _:\n",
        "      pass\n",
        "\n",
        "# Xoá sinh viên theo MSSV\n",
        "def deleting_student(student_list,target):\n",
        "  for student in student_list:\n",
        "    for info in student:\n",
        "      if target==info:\n",
        "        student_list.remove(student)\n",
        "        return \"Đã xoá sinh viên đó thành công!\"\n",
        "  return \"Không tìm thấy sinh viên đó!\"\n",
        "\n",
        "# Menu thực hiện chương trình\n",
        "def display_menu():\n",
        "  print(\"\\n\\t=====Chương trình quản lý sinh viên=====\")\n",
        "  print(\"(1). Thêm một sinh viên vào danh sách\")\n",
        "  print(\"(2). Hiển thị danh sách sinh viên\")\n",
        "  print(\"(3). Tìm kiếm sinh viên theo MSSV\")\n",
        "  print(\"(4). Xoá sinh viên theo MSSV\")\n",
        "  print(\"(5). Cập nhật điểm số MSSV\")\n",
        "  print(\"(6). Hiển thị danh sách sinh viên có điểm số lớn hơn 7\")\n",
        "  print(\"(*). Nhập phím bất kỳ để thoát khỏi chương trình\")\n",
        "\n",
        "def play():\n",
        "  student_list=[]\n",
        "  while True:\n",
        "    display_menu()\n",
        "    code=input(\"Nhập lựa chọn của bạn (1-5): \")\n",
        "    match code:\n",
        "      case \"1\":\n",
        "\n",
        "        print(\"Thêm một sinh viên vào danh sách...\")\n",
        "        tmp=student_input()\n",
        "        student_list.append(tmp)\n",
        "      case \"2\":\n",
        "        print(\"Danh sách sinh viên...\")\n",
        "        display_student_list(student_list)\n",
        "\n",
        "      case \"3\":\n",
        "        searching=input(\"Nhập MSSV của sinh viên mà bạn muốn tìm: \")\n",
        "        if not searching_student(student_list,searching):\n",
        "          print(\"Không tìm thấy sinh viên đó...\")\n",
        "\n",
        "      case \"4\":\n",
        "        del_student=input(\"Nhập thông tin sinh viên mà bạn muốn xoá (MSSV): \")\n",
        "        print(deleting_student(student_list,del_student))\n",
        "\n",
        "      case \"5\":\n",
        "        print(\"Cập nhật điểm số của sinh viên...\")\n",
        "        print(\"(1). Cập nhật tất cả điểm số của sinh viên trong danh sách\")\n",
        "        print(\"(2). Cập nhật điểm số của một sinh viên cụ thể (Nhập STT của sinh viên)\")\n",
        "        print(\"(*). Nhấn bất kỳ để thoát cập nhật\")\n",
        "        try:\n",
        "          grade_updating(student_list)\n",
        "        except Exception as e:\n",
        "          print(\"Điểm phải từ 0 đến 10!\")\n",
        "\n",
        "      case \"6\":\n",
        "        print(\"Danh sách sinh viên có điểm số >7...\")\n",
        "        display_student_list_have_grade_greater_than_7(student_list)\n",
        "\n",
        "      case _:\n",
        "        break\n",
        "\n",
        "#Chương trình chính\n",
        "def main():\n",
        "  play()\n",
        "\n",
        "if __name__ == \"__main__\":\n",
        "  main()"
      ],
      "metadata": {
        "id": "QqiDOcopC8vX"
      },
      "execution_count": null,
      "outputs": []
    },
    {
      "cell_type": "markdown",
      "source": [
        "## **Bài 14:** Tạo từ điển Anh-Việt đơn giản bằng cách sử dụng dictionary trong Python. Chương trình cho phép người dùng thực hiện các tính năng sau:\n",
        "* Thêm các cặp từ (từ Anh và nghĩa tiếng Việt tương ứng) vào từ điển\n",
        "* Tra cứu nghĩa của từ bằng cách nhập từ tiếng Anh\n",
        "* Xóa một cặp từ nào đó trong từ\n",
        " điển"
      ],
      "metadata": {
        "id": "aotz_YkkXHs5"
      }
    },
    {
      "cell_type": "code",
      "source": [
        "'''\n",
        "Có thể thử chương trình thông qua 10 cặp từ ví dụ sau đây:\n",
        "{\n",
        "  \"serendipity\": \"sự tình cờ may mắn\",\n",
        "  \"drought\": \"hạn hán\",\n",
        "  \"elaborate\": \"tỉ mỉ, công phu\",\n",
        "  \"awkward\": \"vụng về, lúng túng\",\n",
        "  \"plausible\": \"hợp lý, đáng tin\",\n",
        "  \"mischief\": \"trò tinh nghịch\",\n",
        "  \"vulnerable\": \"dễ bị tổn thương\",\n",
        "  \"dawn\": \"bình minh\",\n",
        "  \"resent\": \"bực tức, phẫn nộ\",\n",
        "  \"clutter\": \"bừa bộn, lộn xộn\"\n",
        "}\n",
        "'''\n",
        "# Thêm một cặp từ\n",
        "def add_a_word_and_meaning():\n",
        "    word=input(\"Nhập từ tiếng Anh: \")\n",
        "    meaning=input(\"Nhập nghĩa tiếng Việt tương ứng: \")\n",
        "    return {word:meaning}\n",
        "\n",
        "# Tìm từ\n",
        "def finding_word(a_dict,word):\n",
        "  if word in {key:a_dict[key] for key in a_dict}:\n",
        "    print(\"\\n✅ Đã tìm thấy từ tương ứng!\")\n",
        "    print(f\"Từ tiếng Anh: {word}\")\n",
        "    print(f\"Nghĩa tiếng Việt tương ứng: {a_dict[word]}\")\n",
        "  else:\n",
        "    print(\"\\n❌ Không tìm thấy từ đó!\")\n",
        "\n",
        "# Xoá một cặp từ nào đó\n",
        "def deleting_word(a_dict,word):\n",
        "  if word in {key:a_dict[key] for key in a_dict}:\n",
        "    print(f\"\\nĐã tìm thấy từ muốn xoá: '{word}'\")\n",
        "    a_dict.pop(word)\n",
        "    print(\"✅ Đã xoá từ đó thành công!\")\n",
        "  else:\n",
        "    print(\"❌ Không tìm thấy từ vựng đó!\")\n",
        "\n",
        "# Hiển thị giao diện chương trình\n",
        "def display_menu():\n",
        "  print(\"\\n\\t=====📚 Chương trình tra từ điển Anh - Việt ======\")\n",
        "  print(\"(1). ➕  Thêm các cặp từ Anh và nghĩa tiếng Việt tương ứng vào từ điển\")\n",
        "  print(\"(2). 🔍  Tra cứu từ vựng tiếng Anh\")\n",
        "  print(\"(3). 🗑️  Xoá một cặp từ\")\n",
        "  print(\"(*). ❌  Nhấn phím bất kỳ để thoát khỏi chương trình\")\n",
        "\n",
        "# Thực hiện nội dung của chương trình\n",
        "def operate_function():\n",
        "  english_dict={}\n",
        "  while True:\n",
        "    display_menu()\n",
        "    code=input(\"Mời bạn nhập lựa chọn của mình: \")\n",
        "    match code:\n",
        "      case \"1\":\n",
        "        while True:\n",
        "          print(\"\\n➕ Thêm các cặp từ...\")\n",
        "          choice=input(\"❓Bạn có muốn thêm cặp từ Anh - Việt tương ứng không? (Y/N): \")\n",
        "          if choice.lower()==\"y\":\n",
        "            new_word = add_a_word_and_meaning()\n",
        "            english_dict.update(new_word)\n",
        "          else:\n",
        "            break\n",
        "\n",
        "      case \"2\":\n",
        "        print(\"\\n🔍Tìm kiếm cặp từ...\")\n",
        "        fword=input(\"❓Nhập từ tiếng Anh mà bạn muốn tìm kiếm: \")\n",
        "        finding_word(english_dict,fword)\n",
        "\n",
        "      case \"3\":\n",
        "        print(\"\\n🗑️3Xoá một cặp từ...\")\n",
        "        del_word=input(\"❓Nhập từ tiếng Anh mà bạn muốn xoá: \")\n",
        "        deleting_word(english_dict,del_word)\n",
        "\n",
        "      case _:\n",
        "        break\n",
        "\n",
        "def main():\n",
        "  operate_function()\n",
        "\n",
        "if __name__ == \"__main__\":\n",
        "  main()"
      ],
      "metadata": {
        "id": "k6oahNV-b6E0",
        "colab": {
          "base_uri": "https://localhost:8080/"
        },
        "outputId": "921700e7-51f8-4ede-862a-f7b39f7a8737"
      },
      "execution_count": null,
      "outputs": [
        {
          "name": "stdout",
          "output_type": "stream",
          "text": [
            "\n",
            "\t=====📚 Chương trình tra từ điển Anh - Việt ======\n",
            "(1). ➕  Thêm các cặp từ Anh và nghĩa tiếng Việt tương ứng vào từ điển\n",
            "(2). 🔍  Tra cứu từ vựng tiếng Anh\n",
            "(3). 🗑️  Xoá một cặp từ\n",
            "(*). ❌  Nhấn phím bất kỳ để thoát khỏi chương trình\n",
            "Mời bạn nhập lựa chọn của mình: 1\n",
            "\n",
            "➕ Thêm các cặp từ...\n",
            "❓Bạn có muốn thêm cặp từ Anh - Việt tương ứng không? (Y/N): y\n",
            "Nhập từ tiếng Anh: goat\n",
            "Nhập nghĩa tiếng Việt tương ứng: dê\n",
            "\n",
            "➕ Thêm các cặp từ...\n",
            "❓Bạn có muốn thêm cặp từ Anh - Việt tương ứng không? (Y/N): y\n",
            "Nhập từ tiếng Anh: headphone\n",
            "Nhập nghĩa tiếng Việt tương ứng: tai nghe\n",
            "\n",
            "➕ Thêm các cặp từ...\n",
            "❓Bạn có muốn thêm cặp từ Anh - Việt tương ứng không? (Y/N): y\n",
            "Nhập từ tiếng Anh: insert\n",
            "Nhập nghĩa tiếng Việt tương ứng: chèn vào\n",
            "\n",
            "➕ Thêm các cặp từ...\n",
            "❓Bạn có muốn thêm cặp từ Anh - Việt tương ứng không? (Y/N): o\n",
            "\n",
            "\t=====📚 Chương trình tra từ điển Anh - Việt ======\n",
            "(1). ➕  Thêm các cặp từ Anh và nghĩa tiếng Việt tương ứng vào từ điển\n",
            "(2). 🔍  Tra cứu từ vựng tiếng Anh\n",
            "(3). 🗑️  Xoá một cặp từ\n",
            "(*). ❌  Nhấn phím bất kỳ để thoát khỏi chương trình\n",
            "Mời bạn nhập lựa chọn của mình: 2\n",
            "\n",
            "🔍 Tìm kiếm cặp từ...\n",
            "❓Nhập từ tiếng Anh mà bạn muốn tìm kiếm: goat\n",
            "\n",
            "✅ Đã tìm thấy từ tương ứng!\n",
            "Từ tiếng Anh: goat\n",
            "Nghĩa tiếng Việt tương ứng: dê\n",
            "\n",
            "\t=====📚 Chương trình tra từ điển Anh - Việt ======\n",
            "(1). ➕  Thêm các cặp từ Anh và nghĩa tiếng Việt tương ứng vào từ điển\n",
            "(2). 🔍  Tra cứu từ vựng tiếng Anh\n",
            "(3). 🗑️  Xoá một cặp từ\n",
            "(*). ❌  Nhấn phím bất kỳ để thoát khỏi chương trình\n",
            "Mời bạn nhập lựa chọn của mình: 2\n",
            "\n",
            "🔍 Tìm kiếm cặp từ...\n",
            "❓Nhập từ tiếng Anh mà bạn muốn tìm kiếm: insert\n",
            "\n",
            "✅ Đã tìm thấy từ tương ứng!\n",
            "Từ tiếng Anh: insert\n",
            "Nghĩa tiếng Việt tương ứng: chèn vào\n",
            "\n",
            "\t=====📚 Chương trình tra từ điển Anh - Việt ======\n",
            "(1). ➕  Thêm các cặp từ Anh và nghĩa tiếng Việt tương ứng vào từ điển\n",
            "(2). 🔍  Tra cứu từ vựng tiếng Anh\n",
            "(3). 🗑️  Xoá một cặp từ\n",
            "(*). ❌  Nhấn phím bất kỳ để thoát khỏi chương trình\n",
            "Mời bạn nhập lựa chọn của mình: 2\n",
            "\n",
            "🔍 Tìm kiếm cặp từ...\n",
            "❓Nhập từ tiếng Anh mà bạn muốn tìm kiếm: data\n",
            "\n",
            "❌ Không tìm thấy từ đó!\n",
            "\n",
            "\t=====📚 Chương trình tra từ điển Anh - Việt ======\n",
            "(1). ➕  Thêm các cặp từ Anh và nghĩa tiếng Việt tương ứng vào từ điển\n",
            "(2). 🔍  Tra cứu từ vựng tiếng Anh\n",
            "(3). 🗑️  Xoá một cặp từ\n",
            "(*). ❌  Nhấn phím bất kỳ để thoát khỏi chương trình\n",
            "Mời bạn nhập lựa chọn của mình: 3\n",
            "\n",
            "🗑️ Xoá một cặp từ...\n",
            "❓Nhập từ tiếng Anh mà bạn muốn xoá: goat\n",
            "\n",
            "Đã tìm thấy từ muốn xoá: 'goat'\n",
            "✅ Đã xoá từ đó thành công!\n",
            "\n",
            "\t=====📚 Chương trình tra từ điển Anh - Việt ======\n",
            "(1). ➕  Thêm các cặp từ Anh và nghĩa tiếng Việt tương ứng vào từ điển\n",
            "(2). 🔍  Tra cứu từ vựng tiếng Anh\n",
            "(3). 🗑️  Xoá một cặp từ\n",
            "(*). ❌  Nhấn phím bất kỳ để thoát khỏi chương trình\n",
            "Mời bạn nhập lựa chọn của mình: 2\n",
            "\n",
            "🔍 Tìm kiếm cặp từ...\n",
            "❓Nhập từ tiếng Anh mà bạn muốn tìm kiếm: goat\n",
            "\n",
            "❌ Không tìm thấy từ đó!\n",
            "\n",
            "\t=====📚 Chương trình tra từ điển Anh - Việt ======\n",
            "(1). ➕  Thêm các cặp từ Anh và nghĩa tiếng Việt tương ứng vào từ điển\n",
            "(2). 🔍  Tra cứu từ vựng tiếng Anh\n",
            "(3). 🗑️  Xoá một cặp từ\n",
            "(*). ❌  Nhấn phím bất kỳ để thoát khỏi chương trình\n",
            "Mời bạn nhập lựa chọn của mình: o\n"
          ]
        }
      ]
    },
    {
      "cell_type": "markdown",
      "source": [
        "## **Bài 15:** Viết chương trình cho phép người dùng nhập vào một mảng hai chiều với mỗi phần tử là một số nguyên, sau đó thực hiện các yêu cầu sau:\n",
        "* Tính tổng các số nguyên tố trong mảng 2 chiều.\n",
        "* Tính tổng đường chéo chính(trường hợp nhập vào mảng vuông)\n",
        "* Tìm vị trí của phần tử nhỏ nhất và lớn nhất trong mảng 2 chiều."
      ],
      "metadata": {
        "id": "RQSysQAflt7R"
      }
    },
    {
      "cell_type": "code",
      "source": [
        "import numpy as np\n",
        "import math\n",
        "#Kiểm tra một số nguyên có phải số nguyên tố không\n",
        "def prime_num(num):\n",
        "  if num<=1:\n",
        "    return False\n",
        "  elif num==2:\n",
        "    return True\n",
        "  else:\n",
        "    for i in range(3,int(math.sqrt(num)+1)):\n",
        "      if num%i==0:\n",
        "        return False\n",
        "    return True\n",
        "\n",
        "def compute_sum_of_diagonal_elements(mtrix):\n",
        "  if mtrix.shape[0]==mtrix.shape[1]:\n",
        "    return sum(np.diag(mtrix))\n",
        "  else:\n",
        "    return None\n",
        "\n",
        "#Nhập ma trận hai chiều\n",
        "def input_matrix():\n",
        "  mtrix=[]\n",
        "  row = int(input(\"🔢 Mời bạn nhập số hàng của ma trận: \"))\n",
        "  col = int(input(\"🔢 Mời bạn nhập số cột của ma trận: \"))\n",
        "  for i in range(row):\n",
        "    temp = input(f\"➡️ Mời bạn nhập phần tử hàng thứ {i+1} (📏 Mỗi phần tử cách nhau bởi dấu cách): \")\n",
        "    temp = list(temp.split(' '))\n",
        "    if len(temp) == col:\n",
        "        mtrix.append([int(i) for i in temp])\n",
        "    else:\n",
        "        print(f\"⚠️ Số phần tử trong hàng phải tương ứng với số cột = {col} của ma trận!\")\n",
        "        mtrix.clear()\n",
        "        break\n",
        "  return np.array(mtrix)\n",
        "\n",
        "#Tính tổng các số nguyên tố có trong ma trận\n",
        "def sum_of_prime_num(matrix):\n",
        "  sum_prime=0\n",
        "  for row in matrix:\n",
        "    for x in row:\n",
        "      if (prime_num(x)):\n",
        "        sum_prime+=x\n",
        "  return sum_prime\n",
        "\n",
        "#Tìm Min, Max trong mảng hai chiều\n",
        "def min_max(matrix):\n",
        "  return np.max(matrix),np.min(matrix)\n",
        "\n",
        "def main():\n",
        "  sol=input_matrix()\n",
        "  sum_prime=sum_of_prime_num(sol)\n",
        "  diag_sum=compute_sum_of_diagonal_elements(sol)\n",
        "  max_ele,min_ele=min_max(sol)\n",
        "\n",
        "  #Tổng các số nguyên tố của mảng hai chiều\n",
        "  print(f\"\\n🧮 Tổng các số nguyên tố trong mảng là: {sum_prime}\")\n",
        "\n",
        "  # Tổng đường chéo chính (Ma trận vuông)\n",
        "  if diag_sum is None:\n",
        "    print(\"\\n⚠️ Không phải mảng vuông!\")\n",
        "  else:\n",
        "    print(f\"\\n📐 Tổng các phần tử đường chéo chính trên mảng là: {diag_sum}\")\n",
        "\n",
        "  # Min, Max trong mảng\n",
        "  print(f\"\\n📉 Min: {min_ele} - 📈 Max: {max_ele}\")\n",
        "\n",
        "if __name__==\"__main__\":\n",
        "  main()"
      ],
      "metadata": {
        "colab": {
          "base_uri": "https://localhost:8080/"
        },
        "id": "NGU8iHD1-o4L",
        "outputId": "df8236b1-c122-41ca-d1e9-ac1fd0887980"
      },
      "execution_count": 24,
      "outputs": [
        {
          "output_type": "stream",
          "name": "stdout",
          "text": [
            "🔢 Mời bạn nhập số hàng của ma trận: 2\n",
            "🔢 Mời bạn nhập số cột của ma trận: 3\n",
            "➡️ Mời bạn nhập phần tử hàng thứ 1 (📏 Mỗi phần tử cách nhau bởi dấu cách): 7 5 4\n",
            "➡️ Mời bạn nhập phần tử hàng thứ 2 (📏 Mỗi phần tử cách nhau bởi dấu cách): 1 3 6\n",
            "\n",
            "🧮 Tổng các số nguyên tố trong mảng là: 25\n",
            "\n",
            "⚠️ Không phải ma trận vuông!\n",
            "\n",
            "📉 Min: 1 - 📈 Max: 7\n"
          ]
        }
      ]
    }
  ]
}